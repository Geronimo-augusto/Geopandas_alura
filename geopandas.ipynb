{
 "cells": [
  {
   "cell_type": "markdown",
   "metadata": {},
   "source": [
    "\n",
    "# Como trasnformar em um arquivo .shp e le ele\n",
    "- geo_dados.to_file('DATASET.shp')\n",
    "- rj.to_file('RJ-MUNIC.shp')\n",
    "- rj_munic = gpd.read_file(\"RJ-MUNIC.shp\")"
   ]
  },
  {
   "cell_type": "code",
   "execution_count": null,
   "metadata": {},
   "outputs": [],
   "source": [
    "import geopandas as gpd\n",
    "import pandas as pd\n",
    "import numpy as np\n",
    "import seaborn as sns\n",
    "from shapely import Point"
   ]
  },
  {
   "cell_type": "markdown",
   "metadata": {},
   "source": [
    "# Criação das variáveis com o caminho dos arquivos "
   ]
  },
  {
   "cell_type": "code",
   "execution_count": null,
   "metadata": {},
   "outputs": [],
   "source": [
    "\n",
    "url = \"https://github.com/allanspadini/curso_geopandas/raw/main/dados/RJ_Municipios_2022.shp\"\n",
    "url_csv = \"https://raw.githubusercontent.com/allanspadini/curso_geopandas/main/dados/dados.csv\"\n",
    "url_m= \"https://github.com/allanspadini/curso_geopandas/raw/main/dados/metro.geojson\"\n",
    "url_t= \"https://github.com/allanspadini/curso_geopandas/raw/main/dados/trem.geojson\"\n",
    "url_b= \"https://github.com/allanspadini/curso_geopandas/raw/main/dados/brt.geojson\"\n",
    "# tem que baixar o arquivo :https://www.data.rio/datasets/cobertura-vegetal-e-uso-da-terra-2018/explore\n",
    "url_p = \"Cobertura_Vegetal_e_Uso_da_Terra_2018.geojson\"#(mude para o caminho do na sua maquina)\n"
   ]
  },
  {
   "cell_type": "markdown",
   "metadata": {},
   "source": [
    "# Leitura/importação dos arquivos"
   ]
  },
  {
   "cell_type": "code",
   "execution_count": null,
   "metadata": {},
   "outputs": [],
   "source": [
    "rj = gpd.read_file(url)\n",
    "df= pd.read_csv(url_csv, sep='\\t')\n",
    "metro= gpd.read_file(url_m)\n",
    "trem = gpd.read_file(url_t)\n",
    "brt = gpd.read_file(url_b)\n",
    "praias = gpd.read_file(url_p)"
   ]
  },
  {
   "cell_type": "markdown",
   "metadata": {},
   "source": [
    "# Filtragem "
   ]
  },
  {
   "cell_type": "code",
   "execution_count": null,
   "metadata": {},
   "outputs": [],
   "source": [
    "rj = rj[rj[\"NM_MUN\"] == \"Rio de Janeiro\"]\n",
    "praias = praias[praias[\"classe\"]==\"Praia\"]\n",
    "\n"
   ]
  },
  {
   "cell_type": "markdown",
   "metadata": {},
   "source": [
    "# Transformando de DataFrame para GeoDataFrame"
   ]
  },
  {
   "cell_type": "code",
   "execution_count": null,
   "metadata": {},
   "outputs": [],
   "source": [
    "ponto_geometricos = [Point(x) for x in zip(df[\"Longitude\"], df[\"Latitude\"])]\n",
    "crs = { \"proj\": \"latlong\", \"ellps\":\"WGS84\", \"datum\":\"WGS84\", \"no_defs\":True}\n",
    "geo_dados=gpd.GeoDataFrame(df, crs = crs, geometry=ponto_geometricos)\n"
   ]
  },
  {
   "cell_type": "markdown",
   "metadata": {},
   "source": [
    "# Padronizando o crs"
   ]
  },
  {
   "cell_type": "code",
   "execution_count": null,
   "metadata": {},
   "outputs": [],
   "source": [
    "rj = rj.to_crs(\"+proj=utm +zone=23 +south +ellps=GRS80 +units=km +no_defs +type=crs\")\n",
    "geo_dados = geo_dados.to_crs(\"+proj=utm +zone=23 +south +ellps=GRS80 +units=km +no_defs +type=crs\")\n",
    "metro= metro.to_crs(\"+proj=utm +zone=23 +south +ellps=GRS80 +units=km +no_defs +type=crs\")\n",
    "trem= trem.to_crs(\"+proj=utm +zone=23 +south +ellps=GRS80 +units=km +no_defs +type=crs\") \n",
    "brt = brt.to_crs(\"+proj=utm +zone=23 +south +ellps=GRS80 +units=km +no_defs +type=crs\")  \n",
    "praias = praias.to_crs(\"+proj=utm +zone=23 +south +ellps=GRS80 +units=km +no_defs +type=crs\")\n"
   ]
  },
  {
   "cell_type": "markdown",
   "metadata": {},
   "source": [
    "# Localizando os dados e fazendo a correlação entre eles"
   ]
  },
  {
   "cell_type": "code",
   "execution_count": null,
   "metadata": {},
   "outputs": [],
   "source": [
    "\n",
    "geo_dados = geo_dados[geo_dados['geometry'].within(rj.iloc[0].geometry)]\n",
    "trem= trem[trem.within(rj.iloc[0].geometry)]\n",
    "brt= brt[brt.within(rj.iloc[0].geometry)]\n",
    "geo_dados[\"Dist_metro\"] = geo_dados[\"geometry\"].apply(lambda x: metro.distance(x).min())\n",
    "geo_dados[\"Dist_Praia\"] = geo_dados[\"geometry\"].apply(lambda x:praias.distance(x).min())\n",
    "geo_dados_num = geo_dados.select_dtypes(include=[np.number])\n",
    "correlacao = geo_dados_num.corr()"
   ]
  },
  {
   "cell_type": "markdown",
   "metadata": {},
   "source": [
    "# Criação dos gráficos a baixo"
   ]
  },
  {
   "cell_type": "code",
   "execution_count": null,
   "metadata": {},
   "outputs": [],
   "source": [
    "base= rj.plot(color=\"white\", edgecolor=\"black\")\n",
    "geo_dados.plot(ax=base, alpha=0.2)\n",
    "metro.plot(ax=base, color=\"#b60a1c\", markersize=5)\n",
    "trem.plot(ax=base, color=\"#e39143\", markersize=5)\n",
    "brt.plot(ax=base, color=\"#309143\", markersize=5)"
   ]
  },
  {
   "cell_type": "markdown",
   "metadata": {},
   "source": [
    "## Região de praias"
   ]
  },
  {
   "cell_type": "code",
   "execution_count": null,
   "metadata": {},
   "outputs": [],
   "source": [
    "base= rj.plot(alpha= 0.7)\n",
    "praias.plot(ax=base, color= \"white\", edgecolor=\"black\")"
   ]
  },
  {
   "cell_type": "markdown",
   "metadata": {},
   "source": [
    "## Mapa de Calor"
   ]
  },
  {
   "cell_type": "code",
   "execution_count": null,
   "metadata": {},
   "outputs": [],
   "source": [
    "\n",
    "sns.heatmap(correlacao, annot=True, cmap=\"RdYlBu\", linewidth=0.5)\n"
   ]
  },
  {
   "cell_type": "markdown",
   "metadata": {},
   "source": [
    "## Gráfico de Dispersão"
   ]
  },
  {
   "cell_type": "code",
   "execution_count": null,
   "metadata": {},
   "outputs": [],
   "source": [
    "sns.scatterplot(x= \"Dist_Praia\", y= \"Valor\",data= geo_dados)"
   ]
  },
  {
   "cell_type": "code",
   "execution_count": null,
   "metadata": {},
   "outputs": [],
   "source": [
    "\n"
   ]
  },
  {
   "cell_type": "code",
   "execution_count": null,
   "metadata": {},
   "outputs": [],
   "source": []
  }
 ],
 "metadata": {
  "kernelspec": {
   "display_name": "Python 3",
   "language": "python",
   "name": "python3"
  },
  "language_info": {
   "codemirror_mode": {
    "name": "ipython",
    "version": 3
   },
   "file_extension": ".py",
   "mimetype": "text/x-python",
   "name": "python",
   "nbconvert_exporter": "python",
   "pygments_lexer": "ipython3",
   "version": "3.11.0"
  }
 },
 "nbformat": 4,
 "nbformat_minor": 2
}
